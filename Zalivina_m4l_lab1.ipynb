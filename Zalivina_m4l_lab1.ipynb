{
 "cells": [
  {
   "cell_type": "markdown",
   "metadata": {},
   "source": [
    "# Получить на вход файл с предложением в формате CONLL. В памяти сформировать дерево данного предложения, вывести все именные и глагольные группы."
   ]
  },
  {
   "cell_type": "markdown",
   "metadata": {},
   "source": [
    "Читаем файл с предложением в формате CONLL:"
   ]
  },
  {
   "cell_type": "code",
   "execution_count": 162,
   "metadata": {},
   "outputs": [],
   "source": [
    "def readfile(filename):\n",
    "    with open(filename) as file:\n",
    "        lines = file.read().split('\\n')\n",
    "    words = []\n",
    "    for line in lines[1:]:\n",
    "        word = line.split('\\t')\n",
    "        words.append(word)\n",
    "    return words"
   ]
  },
  {
   "cell_type": "markdown",
   "metadata": {},
   "source": [
    "Формируем дерево данного предложения: "
   ]
  },
  {
   "cell_type": "code",
   "execution_count": 163,
   "metadata": {},
   "outputs": [],
   "source": [
    "def loadDependencyTree(filename): \n",
    "    words = readfile(filename)\n",
    "    tokens = []\n",
    "    for w in words:\n",
    "        tokens.append(w[0] + '. ' + w[2])\n",
    "        \n",
    "    nodes = [('0. root', [])]\n",
    "    nodes.extend([(t, []) for t in tokens])\n",
    "    root_no = -1\n",
    "    \n",
    "    for i, word in enumerate(words):\n",
    "        nodes[int(word[6])][1].append(nodes[i+1])\n",
    "    \n",
    "    return nodes"
   ]
  },
  {
   "cell_type": "markdown",
   "metadata": {},
   "source": [
    "Вызываем функцию для построения дерева:"
   ]
  },
  {
   "cell_type": "code",
   "execution_count": 164,
   "metadata": {},
   "outputs": [],
   "source": [
    "tree = loadDependencyTree('text.conllu')"
   ]
  },
  {
   "cell_type": "markdown",
   "metadata": {},
   "source": [
    "Выписываем в список отношения, которые могут относится к именным и глагольным группам. Отношения и примеры использования посмотрели на сайте UD."
   ]
  },
  {
   "cell_type": "code",
   "execution_count": 165,
   "metadata": {},
   "outputs": [],
   "source": [
    "relat_IG = ['amod', 'advmod', 'appos', 'det', 'nmod', 'nummod:gov']\n",
    "relat_GG = ['advcl', 'acl', 'aux', 'advmod', 'cop', 'csubj', 'csubj:pass', 'iobj', 'obj', 'obl', 'xcomp']"
   ]
  },
  {
   "cell_type": "markdown",
   "metadata": {},
   "source": [
    "У каждого элемента предложения смотрим на его отношение с родителем, выбираем подходящие, соединяем родителя и потомка, добавляем в массив именных/глагольных групп. \n",
    "p.s. Я не уверена, что именно имелось в виду под ИГ, ГГ, поэтому в моем представлении это сущ + *то, что к нему относится* или глаг + *то, что к нему относится*"
   ]
  },
  {
   "cell_type": "code",
   "execution_count": 166,
   "metadata": {},
   "outputs": [],
   "source": [
    "def search_groups(filename, relations, pos):\n",
    "    words = readfile(filename)\n",
    "    mas_group = []\n",
    "    for word in words:\n",
    "        if pos == word[3]:\n",
    "            for relation in relations:\n",
    "                cur_rel = word[-2].split(':')[1] \n",
    "                if cur_rel == relation:\n",
    "                    first = word[1]\n",
    "                    if words[int(word[-2].split(':')[0])-1][3] != 'VERB': \n",
    "                        second = words[int(word[-2].split(':')[0])-1][1]\n",
    "                        mas_group.append(first + ' ' + second)\n",
    "    return mas_group"
   ]
  },
  {
   "cell_type": "markdown",
   "metadata": {},
   "source": [
    "Вызываем функцию для поиска именных и глагольных групп."
   ]
  },
  {
   "cell_type": "code",
   "execution_count": 178,
   "metadata": {},
   "outputs": [],
   "source": [
    "IG = search_groups('text.conllu', relat_IG, 'NOUN')\n",
    "GG = search_groups('text.conllu', relat_GG, 'VERB')"
   ]
  },
  {
   "cell_type": "code",
   "execution_count": 179,
   "metadata": {
    "scrolled": true
   },
   "outputs": [
    {
     "name": "stdout",
     "output_type": "stream",
     "text": [
      "Именные группы: \n",
      "предприятий сырья\n",
      "сбыта рынков\n",
      "продукции сбыта\n",
      "пространстве конкурентоспособной\n",
      "развития темпы\n",
      "Глагольны группы: \n",
      "оставшись потеряла\n"
     ]
    }
   ],
   "source": [
    "print('Именные группы: ')\n",
    "for each in IG:\n",
    "    print(each)\n",
    "\n",
    "print('Глагольны группы: ')\n",
    "for each in GG:\n",
    "    print(each)"
   ]
  }
 ],
 "metadata": {
  "kernelspec": {
   "display_name": "Python 3",
   "language": "python",
   "name": "python3"
  },
  "language_info": {
   "codemirror_mode": {
    "name": "ipython",
    "version": 3
   },
   "file_extension": ".py",
   "mimetype": "text/x-python",
   "name": "python",
   "nbconvert_exporter": "python",
   "pygments_lexer": "ipython3",
   "version": "3.7.4"
  }
 },
 "nbformat": 4,
 "nbformat_minor": 4
}
